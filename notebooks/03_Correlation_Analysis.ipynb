{
 "cells": [
  {
   "cell_type": "code",
   "execution_count": 12,
   "id": "8e76b200",
   "metadata": {},
   "outputs": [
    {
     "name": "stdout",
     "output_type": "stream",
     "text": [
      "d:\\Tenx\\.venv\\Scripts\\python.exe\n",
      "Loaded 3146 news articles for NVDA.\n",
      "Loaded 6421 days of stock data for NVDA.\n"
     ]
    }
   ],
   "source": [
    "import sys\n",
    "print(sys.executable)\n",
    "\n",
    "import pandas as pd\n",
    "import numpy as np\n",
    "import matplotlib.pyplot as plt\n",
    "import seaborn as sns\n",
    "from zipfile import ZipFile\n",
    "from textblob import TextBlob \n",
    "\n",
    "plt.style.use('seaborn-v0_8-whitegrid')\n",
    "pd.set_option('display.max_colwidth', 250)\n",
    "\n",
    "# --- CORRECTED STOCK TICKER ---\n",
    "# We are choosing a stock that we know is frequent in our news dataset.\n",
    "STOCK_TICKER = 'NVDA'\n",
    "\n",
    "# --- Load News Data ---\n",
    "news_df = pd.read_csv('../data/raw_analyst_ratings.csv')\n",
    "news_df['date'] = pd.to_datetime(news_df['date'], errors='coerce').dt.date\n",
    "\n",
    "# --- CORRECTED VARIABLE NAME (Good Practice) ---\n",
    "# Filter for only the news related to our chosen stock.\n",
    "ticker_news_df = news_df[news_df['stock'] == STOCK_TICKER].copy()\n",
    "print(f\"Loaded {len(ticker_news_df)} news articles for {STOCK_TICKER}.\")\n",
    "\n",
    "# --- Load Stock Data ---\n",
    "zip_file_path = '../data/yfinance_data.zip'\n",
    "stock_file_name = f'yfinance_data/{STOCK_TICKER}_historical_data.csv'\n",
    "try:\n",
    "    with ZipFile(zip_file_path) as z:\n",
    "        with z.open(stock_file_name) as f:\n",
    "            stock_df = pd.read_csv(f)\n",
    "    # Prepare stock data\n",
    "    stock_df['Date'] = pd.to_datetime(stock_df['Date']).dt.date\n",
    "    stock_df.set_index('Date', inplace=True)\n",
    "    stock_df.rename(columns={'Close': 'close'}, inplace=True)\n",
    "    print(f\"Loaded {len(stock_df)} days of stock data for {STOCK_TICKER}.\")\n",
    "except KeyError:\n",
    "    print(f\"\\nERROR: Could not find stock data for {STOCK_TICKER} in the zip file.\")\n",
    "    print(\"Please choose another stock from the list.\")"
   ]
  },
  {
   "cell_type": "code",
   "execution_count": 16,
   "id": "2174704b",
   "metadata": {},
   "outputs": [
    {
     "name": "stdout",
     "output_type": "stream",
     "text": [
      "Merged DataFrame contains 9 entries.\n"
     ]
    },
    {
     "data": {
      "text/html": [
       "<div>\n",
       "<style scoped>\n",
       "    .dataframe tbody tr th:only-of-type {\n",
       "        vertical-align: middle;\n",
       "    }\n",
       "\n",
       "    .dataframe tbody tr th {\n",
       "        vertical-align: top;\n",
       "    }\n",
       "\n",
       "    .dataframe thead th {\n",
       "        text-align: right;\n",
       "    }\n",
       "</style>\n",
       "<table border=\"1\" class=\"dataframe\">\n",
       "  <thead>\n",
       "    <tr style=\"text-align: right;\">\n",
       "      <th></th>\n",
       "      <th>Unnamed: 0</th>\n",
       "      <th>headline</th>\n",
       "      <th>url</th>\n",
       "      <th>publisher</th>\n",
       "      <th>date</th>\n",
       "      <th>stock</th>\n",
       "      <th>close</th>\n",
       "    </tr>\n",
       "  </thead>\n",
       "  <tbody>\n",
       "    <tr>\n",
       "      <th>924271</th>\n",
       "      <td>929039</td>\n",
       "      <td>Shares of several technology companies are trading higher on continued volatility despite market weakness. The sector sold off recently as other sectors gained amid US economic reopening and appears to be rebounding.</td>\n",
       "      <td>https://www.benzinga.com/wiim/20/06/16224173/shares-of-several-technology-companies-are-trading-higher-on-continued-volatility-despite-market-wea</td>\n",
       "      <td>Benzinga Newsdesk</td>\n",
       "      <td>2020-06-10</td>\n",
       "      <td>NVDA</td>\n",
       "      <td>9.36675</td>\n",
       "    </tr>\n",
       "    <tr>\n",
       "      <th>924272</th>\n",
       "      <td>929040</td>\n",
       "      <td>Afternoon Market Stats in 5 Minutes</td>\n",
       "      <td>https://www.benzinga.com/markets/20/06/16223572/afternoon-market-stats-in-5-minutes</td>\n",
       "      <td>Benzinga Insights</td>\n",
       "      <td>2020-06-10</td>\n",
       "      <td>NVDA</td>\n",
       "      <td>9.36675</td>\n",
       "    </tr>\n",
       "    <tr>\n",
       "      <th>924273</th>\n",
       "      <td>929041</td>\n",
       "      <td>Morning Market Stats in 5 Minutes</td>\n",
       "      <td>https://www.benzinga.com/markets/20/06/16221744/morning-market-stats-in-5-minutes</td>\n",
       "      <td>Benzinga Insights</td>\n",
       "      <td>2020-06-10</td>\n",
       "      <td>NVDA</td>\n",
       "      <td>9.36675</td>\n",
       "    </tr>\n",
       "    <tr>\n",
       "      <th>924274</th>\n",
       "      <td>929042</td>\n",
       "      <td>Shares of several technology companies are trading higher despite market weakness. The sector recently experienced some welling and appears to be rebounding following dip.</td>\n",
       "      <td>https://www.benzinga.com/wiim/20/06/16214789/shares-of-several-technology-companies-are-trading-higher-despite-market-weakness-the-sector-recentl</td>\n",
       "      <td>Benzinga Newsdesk</td>\n",
       "      <td>2020-06-09</td>\n",
       "      <td>NVDA</td>\n",
       "      <td>9.04600</td>\n",
       "    </tr>\n",
       "    <tr>\n",
       "      <th>924275</th>\n",
       "      <td>929043</td>\n",
       "      <td>Afternoon Market Stats in 5 Minutes</td>\n",
       "      <td>https://www.benzinga.com/markets/20/06/16203190/afternoon-market-stats-in-5-minutes</td>\n",
       "      <td>Benzinga Insights</td>\n",
       "      <td>2020-06-08</td>\n",
       "      <td>NVDA</td>\n",
       "      <td>8.80500</td>\n",
       "    </tr>\n",
       "  </tbody>\n",
       "</table>\n",
       "</div>"
      ],
      "text/plain": [
       "        Unnamed: 0  \\\n",
       "924271      929039   \n",
       "924272      929040   \n",
       "924273      929041   \n",
       "924274      929042   \n",
       "924275      929043   \n",
       "\n",
       "                                                                                                                                                                                                                        headline  \\\n",
       "924271  Shares of several technology companies are trading higher on continued volatility despite market weakness. The sector sold off recently as other sectors gained amid US economic reopening and appears to be rebounding.   \n",
       "924272                                                                                                                                                                                       Afternoon Market Stats in 5 Minutes   \n",
       "924273                                                                                                                                                                                         Morning Market Stats in 5 Minutes   \n",
       "924274                                               Shares of several technology companies are trading higher despite market weakness. The sector recently experienced some welling and appears to be rebounding following dip.   \n",
       "924275                                                                                                                                                                                       Afternoon Market Stats in 5 Minutes   \n",
       "\n",
       "                                                                                                                                                      url  \\\n",
       "924271  https://www.benzinga.com/wiim/20/06/16224173/shares-of-several-technology-companies-are-trading-higher-on-continued-volatility-despite-market-wea   \n",
       "924272                                                                https://www.benzinga.com/markets/20/06/16223572/afternoon-market-stats-in-5-minutes   \n",
       "924273                                                                  https://www.benzinga.com/markets/20/06/16221744/morning-market-stats-in-5-minutes   \n",
       "924274  https://www.benzinga.com/wiim/20/06/16214789/shares-of-several-technology-companies-are-trading-higher-despite-market-weakness-the-sector-recentl   \n",
       "924275                                                                https://www.benzinga.com/markets/20/06/16203190/afternoon-market-stats-in-5-minutes   \n",
       "\n",
       "                publisher        date stock    close  \n",
       "924271  Benzinga Newsdesk  2020-06-10  NVDA  9.36675  \n",
       "924272  Benzinga Insights  2020-06-10  NVDA  9.36675  \n",
       "924273  Benzinga Insights  2020-06-10  NVDA  9.36675  \n",
       "924274  Benzinga Newsdesk  2020-06-09  NVDA  9.04600  \n",
       "924275  Benzinga Insights  2020-06-08  NVDA  8.80500  "
      ]
     },
     "execution_count": 16,
     "metadata": {},
     "output_type": "execute_result"
    }
   ],
   "source": [
    "merged_df = pd.merge(\n",
    "    ticker_news_df, \n",
    "    stock_df[['close']], \n",
    "    left_on='date', \n",
    "    right_index=True,\n",
    "    how='inner'\n",
    ")\n",
    "\n",
    "print(f\"Merged DataFrame contains {len(merged_df)} entries.\")\n",
    "merged_df.head()"
   ]
  },
  {
   "cell_type": "code",
   "execution_count": 17,
   "id": "8fd1c24f",
   "metadata": {},
   "outputs": [
    {
     "data": {
      "text/html": [
       "<div>\n",
       "<style scoped>\n",
       "    .dataframe tbody tr th:only-of-type {\n",
       "        vertical-align: middle;\n",
       "    }\n",
       "\n",
       "    .dataframe tbody tr th {\n",
       "        vertical-align: top;\n",
       "    }\n",
       "\n",
       "    .dataframe thead th {\n",
       "        text-align: right;\n",
       "    }\n",
       "</style>\n",
       "<table border=\"1\" class=\"dataframe\">\n",
       "  <thead>\n",
       "    <tr style=\"text-align: right;\">\n",
       "      <th></th>\n",
       "      <th>headline</th>\n",
       "      <th>sentiment</th>\n",
       "      <th>close</th>\n",
       "    </tr>\n",
       "  </thead>\n",
       "  <tbody>\n",
       "    <tr>\n",
       "      <th>924271</th>\n",
       "      <td>Shares of several technology companies are trading higher on continued volatility despite market weakness. The sector sold off recently as other sectors gained amid US economic reopening and appears to be rebounding.</td>\n",
       "      <td>0.08125</td>\n",
       "      <td>9.36675</td>\n",
       "    </tr>\n",
       "    <tr>\n",
       "      <th>924272</th>\n",
       "      <td>Afternoon Market Stats in 5 Minutes</td>\n",
       "      <td>0.00000</td>\n",
       "      <td>9.36675</td>\n",
       "    </tr>\n",
       "    <tr>\n",
       "      <th>924273</th>\n",
       "      <td>Morning Market Stats in 5 Minutes</td>\n",
       "      <td>0.00000</td>\n",
       "      <td>9.36675</td>\n",
       "    </tr>\n",
       "    <tr>\n",
       "      <th>924274</th>\n",
       "      <td>Shares of several technology companies are trading higher despite market weakness. The sector recently experienced some welling and appears to be rebounding following dip.</td>\n",
       "      <td>0.26250</td>\n",
       "      <td>9.04600</td>\n",
       "    </tr>\n",
       "    <tr>\n",
       "      <th>924275</th>\n",
       "      <td>Afternoon Market Stats in 5 Minutes</td>\n",
       "      <td>0.00000</td>\n",
       "      <td>8.80500</td>\n",
       "    </tr>\n",
       "  </tbody>\n",
       "</table>\n",
       "</div>"
      ],
      "text/plain": [
       "                                                                                                                                                                                                                        headline  \\\n",
       "924271  Shares of several technology companies are trading higher on continued volatility despite market weakness. The sector sold off recently as other sectors gained amid US economic reopening and appears to be rebounding.   \n",
       "924272                                                                                                                                                                                       Afternoon Market Stats in 5 Minutes   \n",
       "924273                                                                                                                                                                                         Morning Market Stats in 5 Minutes   \n",
       "924274                                               Shares of several technology companies are trading higher despite market weakness. The sector recently experienced some welling and appears to be rebounding following dip.   \n",
       "924275                                                                                                                                                                                       Afternoon Market Stats in 5 Minutes   \n",
       "\n",
       "        sentiment    close  \n",
       "924271    0.08125  9.36675  \n",
       "924272    0.00000  9.36675  \n",
       "924273    0.00000  9.36675  \n",
       "924274    0.26250  9.04600  \n",
       "924275    0.00000  8.80500  "
      ]
     },
     "execution_count": 17,
     "metadata": {},
     "output_type": "execute_result"
    }
   ],
   "source": [
    "def get_sentiment(text):\n",
    "    blob = TextBlob(text)\n",
    "    return blob.sentiment.polarity\n",
    "\n",
    "merged_df['sentiment'] = merged_df['headline'].apply(get_sentiment)\n",
    "\n",
    "merged_df[['headline', 'sentiment', 'close']].head()"
   ]
  },
  {
   "cell_type": "code",
   "execution_count": 18,
   "id": "d310d591",
   "metadata": {},
   "outputs": [
    {
     "data": {
      "image/png": "[encoded data removed]",
      "text/plain": [
       "<Figure size 1000x600 with 1 Axes>"
      ]
     },
     "metadata": {},
     "output_type": "display_data"
    }
   ],
   "source": [
    "plt.figure(figsize=(10, 6))\n",
    "sns.histplot(merged_df['sentiment'], bins=30, kde=True)\n",
    "plt.title('Distribution of News Headline Sentiment Scores')\n",
    "plt.xlabel('Sentiment Polarity (-1 to 1)')\n",
    "plt.ylabel('Frequency')\n",
    "plt.axvline(0, color='red', linestyle='--', label='Neutral')\n",
    "plt.legend()\n",
    "plt.show()"
   ]
  },
  {
   "cell_type": "code",
   "execution_count": 19,
   "id": "4099fad8",
   "metadata": {},
   "outputs": [
    {
     "data": {
      "text/html": [
       "<div>\n",
       "<style scoped>\n",
       "    .dataframe tbody tr th:only-of-type {\n",
       "        vertical-align: middle;\n",
       "    }\n",
       "\n",
       "    .dataframe tbody tr th {\n",
       "        vertical-align: top;\n",
       "    }\n",
       "\n",
       "    .dataframe thead th {\n",
       "        text-align: right;\n",
       "    }\n",
       "</style>\n",
       "<table border=\"1\" class=\"dataframe\">\n",
       "  <thead>\n",
       "    <tr style=\"text-align: right;\">\n",
       "      <th></th>\n",
       "      <th>mean_sentiment</th>\n",
       "      <th>daily_return</th>\n",
       "    </tr>\n",
       "    <tr>\n",
       "      <th>date</th>\n",
       "      <th></th>\n",
       "      <th></th>\n",
       "    </tr>\n",
       "  </thead>\n",
       "  <tbody>\n",
       "    <tr>\n",
       "      <th>2020-06-02</th>\n",
       "      <td>0.250000</td>\n",
       "      <td>0.001150</td>\n",
       "    </tr>\n",
       "    <tr>\n",
       "      <th>2020-06-08</th>\n",
       "      <td>0.000000</td>\n",
       "      <td>-0.008881</td>\n",
       "    </tr>\n",
       "    <tr>\n",
       "      <th>2020-06-09</th>\n",
       "      <td>0.262500</td>\n",
       "      <td>-0.034243</td>\n",
       "    </tr>\n",
       "    <tr>\n",
       "      <th>2020-06-10</th>\n",
       "      <td>0.027083</td>\n",
       "      <td>0.000000</td>\n",
       "    </tr>\n",
       "  </tbody>\n",
       "</table>\n",
       "</div>"
      ],
      "text/plain": [
       "            mean_sentiment  daily_return\n",
       "date                                    \n",
       "2020-06-02        0.250000      0.001150\n",
       "2020-06-08        0.000000     -0.008881\n",
       "2020-06-09        0.262500     -0.034243\n",
       "2020-06-10        0.027083      0.000000"
      ]
     },
     "execution_count": 19,
     "metadata": {},
     "output_type": "execute_result"
    }
   ],
   "source": [
    "merged_df['daily_return'] = merged_df['close'].pct_change()\n",
    "\n",
    "daily_sentiment = merged_df.groupby('date')['sentiment'].mean()\n",
    "\n",
    "correlation_df = merged_df.groupby('date').agg({\n",
    "    'sentiment': 'mean',\n",
    "    'daily_return': 'mean' \n",
    "}).rename(columns={'sentiment': 'mean_sentiment'})\n",
    "\n",
    "correlation_df.dropna(inplace=True)\n",
    "\n",
    "correlation_df.head()"
   ]
  },
  {
   "cell_type": "code",
   "execution_count": 20,
   "id": "10485fb6",
   "metadata": {},
   "outputs": [
    {
     "name": "stdout",
     "output_type": "stream",
     "text": [
      "Pearson Correlation between Mean Daily Sentiment and Daily Stock Returns: -0.4377\n"
     ]
    },
    {
     "data": {
      "image/png": "[encoded data removed]",
      "text/plain": [
       "<Figure size 1000x600 with 1 Axes>"
      ]
     },
     "metadata": {},
     "output_type": "display_data"
    }
   ],
   "source": [
    "correlation = correlation_df['mean_sentiment'].corr(correlation_df['daily_return'])\n",
    "\n",
    "print(f\"Pearson Correlation between Mean Daily Sentiment and Daily Stock Returns: {correlation:.4f}\")\n",
    "\n",
    "plt.figure(figsize=(10, 6))\n",
    "sns.regplot(data=correlation_df, x='mean_sentiment', y='daily_return', \n",
    "            line_kws={\"color\": \"red\"}, scatter_kws={'alpha':0.3})\n",
    "plt.title('Daily Sentiment vs. Daily Stock Returns')\n",
    "plt.xlabel('Mean Sentiment Score')\n",
    "plt.ylabel('Daily Stock Return (%)')\n",
    "plt.grid(True)\n",
    "plt.show()"
   ]
  }
 ],
 "metadata": {
  "kernelspec": {
   "display_name": ".venv",
   "language": "python",
   "name": "python3"
  },
  "language_info": {
   "codemirror_mode": {
    "name": "ipython",
    "version": 3
   },
   "file_extension": ".py",
   "mimetype": "text/x-python",
   "name": "python",
   "nbconvert_exporter": "python",
   "pygments_lexer": "ipython3",
   "version": "3.10.9"
  }
 },
 "nbformat": 4,
 "nbformat_minor": 5
}
